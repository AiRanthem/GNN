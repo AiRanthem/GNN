{
 "cells": [
  {
   "cell_type": "markdown",
   "metadata": {},
   "source": [
    "# PyTorch Geometric基础知识\n",
    "PyG 是一款号称比 DGL 快 14 倍的基于 PyTorch 的几何深度学习框架，可以简单方便的实现图神经网络。\n",
    "\n",
    "学习PyG的实践代码. [学习资料](https://www.pytorchtutorial.com/pytorch-geometric-for-gnn/#PyTorch_Geometric)\n",
    "\n",
    "在源教程的基础上稍作改动, 算是更加适合我的版本吧."
   ]
  },
  {
   "cell_type": "code",
   "execution_count": 1,
   "metadata": {
    "tags": []
   },
   "outputs": [
    {
     "output_type": "stream",
     "name": "stdout",
     "text": "1.5.1\nTrue\n"
    }
   ],
   "source": [
    "import torch\n",
    "print(torch.__version__)\n",
    "print(torch.cuda.is_available())"
   ]
  },
  {
   "cell_type": "markdown",
   "metadata": {},
   "source": [
    "## Data类\n",
    "torch_geometric.data 包里有一个 Data 类，通过 Data 类我们可以很方便的创建图结构。\n",
    "\n",
    "定义一个图结构，需要以下变量：\n",
    "\n",
    "+ 每个节点（node）的 features\n",
    "+ 边的连接关系或者边的 features\n",
    "\n",
    "### Example\n",
    "表示下面这张图: 一共有四个节点 v1,v2,v3,v4，其中每个节点都有一个二维的特征向量x和一个标签 y。\n",
    ">20/7/1 猜测x是feature, y是label\n",
    "\n",
    "![](https://www.pytorchtutorial.com/wp-content/uploads/2020/01/img_5e14b8d64bfa4.png)\n",
    "\n",
    "1. 表示节点的 features"
   ]
  },
  {
   "cell_type": "code",
   "execution_count": 2,
   "metadata": {},
   "outputs": [],
   "source": [
    "x = torch.tensor([[2,1], [5,6], [3,7], [12,0]], dtype=torch.float)\n",
    "y = torch.tensor([0, 1, 0, 1], dtype=torch.float)"
   ]
  },
  {
   "cell_type": "markdown",
   "metadata": {},
   "source": [
    "2. 表示边的连接(这里边没有feature)\n",
    "\n",
    ">通过一组列向量来描述边的连接."
   ]
  },
  {
   "cell_type": "code",
   "execution_count": 3,
   "metadata": {},
   "outputs": [],
   "source": [
    "edge_index = torch.tensor([[0,0,1,2,3],\n",
    "                           [1,3,0,1,2]], dtype=torch.long)"
   ]
  },
  {
   "cell_type": "markdown",
   "metadata": {},
   "source": [
    "3. 定义图结构"
   ]
  },
  {
   "cell_type": "code",
   "execution_count": 4,
   "metadata": {},
   "outputs": [],
   "source": [
    "from torch_geometric.data import Data\n",
    "\n",
    "data = Data(x=x, y=y, edge_index=edge_index)"
   ]
  },
  {
   "cell_type": "markdown",
   "metadata": {},
   "source": [
    "## Dataset\n",
    "PyG 里有两种数据集类型：InMemoryDataset 和 Dataset，第一种适用于可以全部放进内存中的小数据集，第二种则适用于不能一次性放进内存中的大数据集。我们以 InMemoryDataset 为例。\n",
    "> 20/7/1 猜测两种Dataset的API一致\n",
    "\n",
    "InMemoryDataset 中有下列四个函数需要我们实现：\n",
    "\n",
    "`raw_file_names()`\n",
    "返回一个包含所有未处理过的数据文件的文件名的列表。\n",
    "\n",
    "起始也可以返回一个空列表，然后在后面要说的 process() 函数里再定义。\n",
    "\n",
    "`processed_file_names()`\n",
    "返回一个包含所有处理过的数据文件的文件名的列表。\n",
    "\n",
    "`download()`\n",
    "如果在数据加载前需要先下载，则在这里定义下载过程，下载到 self.raw_dir 中定义的文件夹位置。\n",
    "\n",
    "如果不需要下载，返回 pass 即可。\n",
    "\n",
    "`process()`\n",
    "这是最重要的一个函数，我们需要在这个函数里把数据处理成一个 Data 对象。\n",
    "\n",
    "下面是官方的一个示例代码："
   ]
  },
  {
   "cell_type": "code",
   "execution_count": 9,
   "metadata": {},
   "outputs": [],
   "source": [
    "from torch_geometric.data import InMemoryDataset\n",
    " \n",
    " \n",
    "class MyOwnDataset(InMemoryDataset):\n",
    "    def __init__(self, root, transform=None, pre_transform=None):\n",
    "        super(MyOwnDataset, self).__init__(root, transform, pre_transform)\n",
    "        self.data, self.slices = torch.load(self.processed_paths[0])\n",
    " \n",
    "    @property\n",
    "    def raw_file_names(self):\n",
    "        return ['some_file_1', 'some_file_2', ...]\n",
    " \n",
    "    @property\n",
    "    def processed_file_names(self):\n",
    "        return ['data.pt']\n",
    " \n",
    "    def download(self):\n",
    "        # Download to `self.raw_dir`.\n",
    "        pass\n",
    " \n",
    "    def process(self):\n",
    "        # Read data into huge `Data` list.\n",
    "        data_list = [...]\n",
    " \n",
    "        if self.pre_filter is not None:\n",
    "            data_list = [data for data in data_list if self.pre_filter(data)]\n",
    " \n",
    "        if self.pre_transform is not None:\n",
    "            data_list = [self.pre_transform(data) for data in data_list]\n",
    " \n",
    "        data, slices = self.collate(data_list)\n",
    "        torch.save((data, slices), self.processed_paths[0])"
   ]
  },
  {
   "cell_type": "markdown",
   "metadata": {},
   "source": [
    "本文接下来会介绍如何用 RecSys Challenge 2015 的数据创建一个自定义数据集。\n",
    "\n",
    "## DataLoader\n",
    "就是使用原始Pytorch中的Dataloader\n",
    "\n",
    "## MessagePassing\n",
    "Message Passing 是图网络中学习 node embedding 的重要方法。\n",
    "\n",
    "Message Passing 的公示如下：\n",
    "\n",
    "![](https://www.pytorchtutorial.com/wp-content/uploads/2020/01/img_5e14c0ce52bab.png)\n",
    "\n",
    "其中，x 表示表格节点的 embedding，e 表示边的特征，ϕ 表示 message 函数，□ 表示聚合 aggregation 函数，γ 表示 update 函数。上标表示层的 index，比如说，当 k = 1 时，x 则表示所有输入网络的图结构的数据。\n",
    "\n",
    "下面是每个函数的介绍：\n",
    "\n",
    "`propagate(edge_index, size=None, **kwargs)`\n",
    "这个函数最终会调用 message 和 update 函数。\n",
    "\n",
    "`message(**kwargs)`\n",
    "这个函数定义了对于每个节点对 (xi,xj)，怎样生成信息（message）。\n",
    "\n",
    "`update(aggr_out, **kwargs)`\n",
    "这个函数利用聚合好的信息（message）更新每个节点的 embedding。\n",
    "\n",
    "### 示例：SageConv\n",
    "我们来看看怎样实现论文 “Inductive Representation Learning on Large Graphs” 中的 SageConv 层。SageConv 的 Message Passing 定义如下：\n",
    "\n",
    "![](https://www.pytorchtutorial.com/wp-content/uploads/2020/01/img_5e14c3404305b.png)\n",
    "\n",
    "聚合函数（aggregation）我们用最大池化（max pooling），这样上述公示中的 AGGREGATE 可以写为：\n",
    "\n",
    "![](https://www.pytorchtutorial.com/wp-content/uploads/2020/01/img_5e14c39149141.png)\n",
    "\n",
    "上述公式中，对于每个邻居节点，都和一个 weighted matrix 相乘，并且加上一个 bias，传给一个激活函数。相关代码如下：\n"
   ]
  },
  {
   "cell_type": "code",
   "execution_count": 11,
   "metadata": {},
   "outputs": [],
   "source": [
    "from torch.nn import Sequential as Seq, Linear, ReLU\n",
    "from torch_geometric.nn import MessagePassing\n",
    "from torch_geometric.utils import remove_self_loops, add_self_loops\n",
    "class SAGEConv(MessagePassing):\n",
    "    def __init__(self, in_channels, out_channels):\n",
    "        super(SAGEConv, self).__init__(aggr='max')\n",
    "        # for message\n",
    "        self.lin = torch.nn.Linear(in_channels, out_channels)\n",
    "        self.act = torch.nn.ReLU()\n",
    "        # for update\n",
    "        self.update_lin = torch.nn.Linear(in_channels + out_channels, in_channels, bias=False)\n",
    "        self.update_act = torch.nn.ReLU()\n",
    "\n",
    "    def forward(self, x, edge_index):\n",
    "        # x has shape [N, in_channels]\n",
    "        # edge_index has shape [2, E]\n",
    "        \n",
    "        edge_index, _ = remove_self_loops(edge_index)\n",
    "        edge_index, _ = add_self_loops(edge_index, num_nodes=x.size(0))\n",
    "        \n",
    "        return self.propagate(edge_index, size=(x.size(0), x.size(0)), x=x)\n",
    "\n",
    "    def message(self, x_j):\n",
    "        # x_j has shape [E, in_channels]\n",
    " \n",
    "        x_j = self.lin(x_j)\n",
    "        x_j = self.act(x_j)\n",
    "      \n",
    "        return x_j\n",
    "\n",
    "    def update(self, aggr_out, x):\n",
    "        # aggr_out has shape [N, out_channels]\n",
    "\n",
    "        new_embedding = torch.cat([aggr_out, x], dim=1)\n",
    "        new_embedding = self.update_lin(new_embedding)\n",
    "        new_embedding = self.update_act(new_embedding)\n",
    "\n",
    "        return new_embedding"
   ]
  },
  {
   "cell_type": "markdown",
   "metadata": {},
   "source": [
    "# 示例：RecSys Challenge 2015\n",
    "RecSys Challenge 2015 是一个挑战赛，主要目的是创建一个 session-based recommender system。主要任务有两个：\n",
    "\n",
    "1. 预测经过一系列的点击后，是否会产生购买行为。\n",
    "2. 预测购买的商品。\n",
    "\n",
    "数据下载地址在[这里](https://www.pytorchtutorial.com/goto/https://2015.recsyschallenge.com/challenge.html)。数据主要包含两部分：yoochoose-clicks.dat 点击数据, 和 yoochoose-buys.dat 购买行为数据。\n",
    "\n",
    "## 数据预处理"
   ]
  },
  {
   "cell_type": "code",
   "execution_count": 4,
   "metadata": {},
   "outputs": [
    {
     "output_type": "execute_result",
     "data": {
      "text/plain": "   session_id                 timestamp  item_id category\n0           1  2014-04-07T10:51:09.277Z     2053        0\n1           1  2014-04-07T10:54:09.868Z     2052        0\n2           1  2014-04-07T10:54:46.998Z     2054        0\n3           1  2014-04-07T10:57:00.306Z     9876        0\n4           2  2014-04-07T13:56:37.614Z    19448        0",
      "text/html": "<div>\n<style scoped>\n    .dataframe tbody tr th:only-of-type {\n        vertical-align: middle;\n    }\n\n    .dataframe tbody tr th {\n        vertical-align: top;\n    }\n\n    .dataframe thead th {\n        text-align: right;\n    }\n</style>\n<table border=\"1\" class=\"dataframe\">\n  <thead>\n    <tr style=\"text-align: right;\">\n      <th></th>\n      <th>session_id</th>\n      <th>timestamp</th>\n      <th>item_id</th>\n      <th>category</th>\n    </tr>\n  </thead>\n  <tbody>\n    <tr>\n      <th>0</th>\n      <td>1</td>\n      <td>2014-04-07T10:51:09.277Z</td>\n      <td>2053</td>\n      <td>0</td>\n    </tr>\n    <tr>\n      <th>1</th>\n      <td>1</td>\n      <td>2014-04-07T10:54:09.868Z</td>\n      <td>2052</td>\n      <td>0</td>\n    </tr>\n    <tr>\n      <th>2</th>\n      <td>1</td>\n      <td>2014-04-07T10:54:46.998Z</td>\n      <td>2054</td>\n      <td>0</td>\n    </tr>\n    <tr>\n      <th>3</th>\n      <td>1</td>\n      <td>2014-04-07T10:57:00.306Z</td>\n      <td>9876</td>\n      <td>0</td>\n    </tr>\n    <tr>\n      <th>4</th>\n      <td>2</td>\n      <td>2014-04-07T13:56:37.614Z</td>\n      <td>19448</td>\n      <td>0</td>\n    </tr>\n  </tbody>\n</table>\n</div>"
     },
     "metadata": {},
     "execution_count": 4
    }
   ],
   "source": [
    "import pandas as pd\n",
    "from sklearn.preprocessing import LabelEncoder\n",
    "\n",
    "df = pd.read_csv('data/yoochoose-data/yoochoose-clicks.dat', header=None)\n",
    "df.columns=['session_id','timestamp','item_id','category']\n",
    " \n",
    "buy_df = pd.read_csv('data/yoochoose-data/yoochoose-buys.dat', header=None)\n",
    "buy_df.columns=['session_id','timestamp','item_id','price','quantity']\n",
    "\n",
    "item_encoder = LabelEncoder()\n",
    "df['item_id'] = item_encoder.fit_transform(df.item_id)\n",
    "\n",
    "df.head()"
   ]
  },
  {
   "cell_type": "markdown",
   "metadata": {},
   "source": [
    "对数据随机抽样（数据太多了）"
   ]
  },
  {
   "cell_type": "code",
   "execution_count": null,
   "metadata": {},
   "outputs": [],
   "source": [
    "import numpy as np\n",
    "sampled_session_id = np.random.choice(df.session_id.unique(), 1000000, replace=False)\n",
    "df = df.loc[df.session_id.isin(sampled_session_id)]\n",
    "df.nunique()"
   ]
  }
 ],
 "metadata": {
  "kernelspec": {
   "display_name": "Python 3.7.7 64-bit ('pyg': conda)",
   "language": "python",
   "name": "python_defaultSpec_1593670823881"
  },
  "language_info": {
   "codemirror_mode": {
    "name": "ipython",
    "version": 3
   },
   "file_extension": ".py",
   "mimetype": "text/x-python",
   "name": "python",
   "nbconvert_exporter": "python",
   "pygments_lexer": "ipython3",
   "version": "3.7.7-final"
  }
 },
 "nbformat": 4,
 "nbformat_minor": 4
}